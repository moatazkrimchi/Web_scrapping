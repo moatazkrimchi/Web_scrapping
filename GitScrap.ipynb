{
  "cells": [
    {
      "cell_type": "markdown",
      "metadata": {
        "id": "view-in-github",
        "colab_type": "text"
      },
      "source": [
        "<a href=\"https://colab.research.google.com/github/moatazkrimchi/Web_scrapping/blob/main/GitScrap.ipynb\" target=\"_parent\"><img src=\"https://colab.research.google.com/assets/colab-badge.svg\" alt=\"Open In Colab\"/></a>"
      ]
    },
    {
      "cell_type": "code",
      "source": [
        "pip install requests"
      ],
      "metadata": {
        "id": "7fcfIPMNCW_6",
        "outputId": "df1f1579-1ce2-4beb-8712-1aa62466a522",
        "colab": {
          "base_uri": "https://localhost:8080/"
        }
      },
      "execution_count": 10,
      "outputs": [
        {
          "output_type": "stream",
          "name": "stdout",
          "text": [
            "Looking in indexes: https://pypi.org/simple, https://us-python.pkg.dev/colab-wheels/public/simple/\n",
            "Requirement already satisfied: requests in /usr/local/lib/python3.8/dist-packages (2.23.0)\n",
            "Requirement already satisfied: certifi>=2017.4.17 in /usr/local/lib/python3.8/dist-packages (from requests) (2022.12.7)\n",
            "Requirement already satisfied: idna<3,>=2.5 in /usr/local/lib/python3.8/dist-packages (from requests) (2.10)\n",
            "Requirement already satisfied: chardet<4,>=3.0.2 in /usr/local/lib/python3.8/dist-packages (from requests) (3.0.4)\n",
            "Requirement already satisfied: urllib3!=1.25.0,!=1.25.1,<1.26,>=1.21.1 in /usr/local/lib/python3.8/dist-packages (from requests) (1.24.3)\n"
          ]
        }
      ]
    },
    {
      "cell_type": "code",
      "source": [
        "pip install bs4"
      ],
      "metadata": {
        "id": "RT71-FjbCaWl",
        "outputId": "d1ef4e73-cc2d-41a2-fdfc-ac7108363cbb",
        "colab": {
          "base_uri": "https://localhost:8080/"
        }
      },
      "execution_count": 11,
      "outputs": [
        {
          "output_type": "stream",
          "name": "stdout",
          "text": [
            "Looking in indexes: https://pypi.org/simple, https://us-python.pkg.dev/colab-wheels/public/simple/\n",
            "Requirement already satisfied: bs4 in /usr/local/lib/python3.8/dist-packages (0.0.1)\n",
            "Requirement already satisfied: beautifulsoup4 in /usr/local/lib/python3.8/dist-packages (from bs4) (4.6.3)\n"
          ]
        }
      ]
    },
    {
      "cell_type": "code",
      "source": [
        "import requests\n",
        "from bs4 import BeautifulSoup as bs\n",
        "\n",
        "github_user = input('Input Github User: ')\n",
        "url = 'https://github.com/' + github_user\n",
        "r = requests.get(url)\n",
        "soup = bs(r.content, 'html.parser')\n",
        "# Image\n",
        "profile_image = soup.find('img', {'alt' : 'Avatar'})['src']\n",
        "print(\"Le lien de ca photo : \",profile_image)\n",
        "# Repositories\n",
        "nbrepo = soup.find('span', class_='Counter')['title']\n",
        "print(\"Le nombre de repositories : \", nbrepo)\n",
        "# Description\n",
        "desc = soup.find('div', class_=\"p-note user-profile-bio mb-3 js-user-profile-bio f4\")['data-bio-text']\n",
        "print(\"La description : \", desc)\n",
        "# Ville\n",
        "ville = soup.find('span', class_=\"p-label\")\n",
        "print(\"La ville : \", ville.text)\n",
        "# Link\n",
        "link = soup.find('a', class_=\"Link--primary\")['href']\n",
        "print(\"Link : \", link)"
      ],
      "metadata": {
        "colab": {
          "base_uri": "https://localhost:8080/"
        },
        "id": "2CGXS4p8Cj8d",
        "outputId": "8932bf95-9316-47b8-9843-f57d7bd7c693"
      },
      "execution_count": 34,
      "outputs": [
        {
          "output_type": "stream",
          "name": "stdout",
          "text": [
            "Input Github User: HoussamEzzin\n",
            "Le lien de ca photo :  https://avatars.githubusercontent.com/u/57637927?v=4\n",
            "Le nombre de repositories :  92\n",
            "La description :  \n",
            "I genuinely use my keyboard to solve problems and transform needs into functionalities.\n",
            "\n",
            "La ville :  Rabat, Morocco\n",
            "Link :  http://my-portfolio-houssamezzin.vercel.app/\n"
          ]
        }
      ]
    },
    {
      "cell_type": "code",
      "source": [],
      "metadata": {
        "id": "131jzrUUDPH_"
      },
      "execution_count": null,
      "outputs": []
    }
  ],
  "metadata": {
    "colab": {
      "name": "Bienvenue dans Colaboratory",
      "provenance": [],
      "include_colab_link": true
    },
    "kernelspec": {
      "display_name": "Python 3",
      "name": "python3"
    }
  },
  "nbformat": 4,
  "nbformat_minor": 0
}