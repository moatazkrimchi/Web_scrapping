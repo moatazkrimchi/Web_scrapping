{
  "nbformat": 4,
  "nbformat_minor": 0,
  "metadata": {
    "colab": {
      "name": "Newspaper Article",
      "provenance": [],
      "authorship_tag": "ABX9TyNTH0EYH7UuG0pPy4VmM7i0",
      "include_colab_link": true
    },
    "kernelspec": {
      "name": "python3",
      "display_name": "Python 3"
    },
    "language_info": {
      "name": "python"
    }
  },
  "cells": [
    {
      "cell_type": "markdown",
      "metadata": {
        "id": "view-in-github",
        "colab_type": "text"
      },
      "source": [
        "<a href=\"https://colab.research.google.com/github/moatazkrimchi/Web_scrapping/blob/main/Newspaper_Article.ipynb\" target=\"_parent\"><img src=\"https://colab.research.google.com/assets/colab-badge.svg\" alt=\"Open In Colab\"/></a>"
      ]
    },
    {
      "cell_type": "code",
      "source": [
        "pip install newspaper3K\n"
      ],
      "metadata": {
        "colab": {
          "base_uri": "https://localhost:8080/"
        },
        "id": "qplipqBGJhGl",
        "outputId": "800a3608-26b5-4242-c3c7-e4160433dc24"
      },
      "execution_count": null,
      "outputs": [
        {
          "output_type": "stream",
          "name": "stdout",
          "text": [
            "Requirement already satisfied: newspaper3K in /usr/local/lib/python3.7/dist-packages (0.2.8)\n",
            "Requirement already satisfied: requests>=2.10.0 in /usr/local/lib/python3.7/dist-packages (from newspaper3K) (2.23.0)\n",
            "Requirement already satisfied: beautifulsoup4>=4.4.1 in /usr/local/lib/python3.7/dist-packages (from newspaper3K) (4.6.3)\n",
            "Requirement already satisfied: lxml>=3.6.0 in /usr/local/lib/python3.7/dist-packages (from newspaper3K) (4.2.6)\n",
            "Requirement already satisfied: feedfinder2>=0.0.4 in /usr/local/lib/python3.7/dist-packages (from newspaper3K) (0.0.4)\n",
            "Requirement already satisfied: jieba3k>=0.35.1 in /usr/local/lib/python3.7/dist-packages (from newspaper3K) (0.35.1)\n",
            "Requirement already satisfied: cssselect>=0.9.2 in /usr/local/lib/python3.7/dist-packages (from newspaper3K) (1.1.0)\n",
            "Requirement already satisfied: python-dateutil>=2.5.3 in /usr/local/lib/python3.7/dist-packages (from newspaper3K) (2.8.2)\n",
            "Requirement already satisfied: tinysegmenter==0.3 in /usr/local/lib/python3.7/dist-packages (from newspaper3K) (0.3)\n",
            "Requirement already satisfied: Pillow>=3.3.0 in /usr/local/lib/python3.7/dist-packages (from newspaper3K) (7.1.2)\n",
            "Requirement already satisfied: feedparser>=5.2.1 in /usr/local/lib/python3.7/dist-packages (from newspaper3K) (6.0.8)\n",
            "Requirement already satisfied: PyYAML>=3.11 in /usr/local/lib/python3.7/dist-packages (from newspaper3K) (3.13)\n",
            "Requirement already satisfied: nltk>=3.2.1 in /usr/local/lib/python3.7/dist-packages (from newspaper3K) (3.2.5)\n",
            "Requirement already satisfied: tldextract>=2.0.1 in /usr/local/lib/python3.7/dist-packages (from newspaper3K) (3.1.2)\n",
            "Requirement already satisfied: six in /usr/local/lib/python3.7/dist-packages (from feedfinder2>=0.0.4->newspaper3K) (1.15.0)\n",
            "Requirement already satisfied: sgmllib3k in /usr/local/lib/python3.7/dist-packages (from feedparser>=5.2.1->newspaper3K) (1.0.0)\n",
            "Requirement already satisfied: chardet<4,>=3.0.2 in /usr/local/lib/python3.7/dist-packages (from requests>=2.10.0->newspaper3K) (3.0.4)\n",
            "Requirement already satisfied: urllib3!=1.25.0,!=1.25.1,<1.26,>=1.21.1 in /usr/local/lib/python3.7/dist-packages (from requests>=2.10.0->newspaper3K) (1.24.3)\n",
            "Requirement already satisfied: certifi>=2017.4.17 in /usr/local/lib/python3.7/dist-packages (from requests>=2.10.0->newspaper3K) (2021.10.8)\n",
            "Requirement already satisfied: idna<3,>=2.5 in /usr/local/lib/python3.7/dist-packages (from requests>=2.10.0->newspaper3K) (2.10)\n",
            "Requirement already satisfied: requests-file>=1.4 in /usr/local/lib/python3.7/dist-packages (from tldextract>=2.0.1->newspaper3K) (1.5.1)\n",
            "Requirement already satisfied: filelock>=3.0.8 in /usr/local/lib/python3.7/dist-packages (from tldextract>=2.0.1->newspaper3K) (3.4.0)\n"
          ]
        }
      ]
    },
    {
      "cell_type": "code",
      "source": [
        "pip install nltk"
      ],
      "metadata": {
        "colab": {
          "base_uri": "https://localhost:8080/"
        },
        "id": "c54M-AJDKUHz",
        "outputId": "49033fae-02eb-4197-977e-721362cbae16"
      },
      "execution_count": null,
      "outputs": [
        {
          "output_type": "stream",
          "name": "stdout",
          "text": [
            "Requirement already satisfied: nltk in /usr/local/lib/python3.7/dist-packages (3.2.5)\n",
            "Requirement already satisfied: six in /usr/local/lib/python3.7/dist-packages (from nltk) (1.15.0)\n"
          ]
        }
      ]
    },
    {
      "cell_type": "code",
      "execution_count": null,
      "metadata": {
        "colab": {
          "base_uri": "https://localhost:8080/"
        },
        "id": "zVF2NSN3JVL1",
        "outputId": "fc190a19-64df-4aca-95f9-b277ab8a88e4"
      },
      "outputs": [
        {
          "output_type": "stream",
          "name": "stdout",
          "text": [
            "[nltk_data] Downloading package punkt to /root/nltk_data...\n",
            "[nltk_data]   Unzipping tokenizers/punkt.zip.\n"
          ]
        },
        {
          "output_type": "execute_result",
          "data": {
            "text/plain": [
              "True"
            ]
          },
          "metadata": {},
          "execution_count": 14
        }
      ],
      "source": [
        "# Importer packages\n",
        "from newspaper import Article\n",
        "import nltk\n",
        "import pandas as pd\n",
        "nltk.download('punkt')"
      ]
    },
    {
      "cell_type": "code",
      "source": [
        "# Télecharger article\n",
        "\n",
        "url = \"https://www.20minutes.fr/sante/3200619-20211217-coronavirus-pass-vaccinal-rappel-fetes-annonces-jean-castex-face-fulgurance-variant-omicron\"\n",
        "article=Article(url)\n",
        "article.download()\n",
        "article.parse()\n"
      ],
      "metadata": {
        "id": "a-H6S0MPJuJY"
      },
      "execution_count": null,
      "outputs": []
    },
    {
      "cell_type": "code",
      "source": [
        "#Titre\n",
        "print(article.title)"
      ],
      "metadata": {
        "colab": {
          "base_uri": "https://localhost:8080/"
        },
        "id": "z9KXnwxLLGMY",
        "outputId": "171f650d-8dd3-45d8-88c0-7dfbb8bb05bd"
      },
      "execution_count": null,
      "outputs": [
        {
          "output_type": "stream",
          "name": "stdout",
          "text": [
            "Coronavirus : Pass vaccinal, rappel, fêtes… Les annonces de Jean Castex face à la « fulgurance » du variant Omicron\n"
          ]
        }
      ]
    },
    {
      "cell_type": "code",
      "source": [
        "#Auteur\n",
        "article.authors"
      ],
      "metadata": {
        "colab": {
          "base_uri": "https://localhost:8080/"
        },
        "id": "881-swK-LLe3",
        "outputId": "e7531133-c020-498f-d37f-68d324c222fe"
      },
      "execution_count": null,
      "outputs": [
        {
          "output_type": "execute_result",
          "data": {
            "text/plain": [
              "['Minutes Avec Afp']"
            ]
          },
          "metadata": {},
          "execution_count": 10
        }
      ]
    },
    {
      "cell_type": "code",
      "source": [
        "# date de publication \n",
        "article.publish_date"
      ],
      "metadata": {
        "colab": {
          "base_uri": "https://localhost:8080/"
        },
        "id": "560PW-raLYTq",
        "outputId": "dabc2af1-25ee-4fbd-c513-e703dbad7bc0"
      },
      "execution_count": null,
      "outputs": [
        {
          "output_type": "execute_result",
          "data": {
            "text/plain": [
              "datetime.datetime(2021, 12, 17, 0, 0)"
            ]
          },
          "metadata": {},
          "execution_count": 11
        }
      ]
    },
    {
      "cell_type": "code",
      "source": [
        "#photo article\n",
        "article.top_image"
      ],
      "metadata": {
        "colab": {
          "base_uri": "https://localhost:8080/",
          "height": 53
        },
        "id": "aN7ClME9LXhj",
        "outputId": "a52bb4c6-efd0-4a62-e4a2-3c119ee9e4ff"
      },
      "execution_count": null,
      "outputs": [
        {
          "output_type": "execute_result",
          "data": {
            "application/vnd.google.colaboratory.intrinsic+json": {
              "type": "string"
            },
            "text/plain": [
              "'https://img.20mn.fr/s3XHRtltTlS4_b5FZaBlbA/648x360_le-premier-ministre-jean-castex-annonce-une-serie-de-mesures-pour-faire-face-au-variant-omicron-le.jpg'"
            ]
          },
          "metadata": {},
          "execution_count": 12
        }
      ]
    },
    {
      "cell_type": "code",
      "source": [
        "# Text\n",
        "print(article.text)"
      ],
      "metadata": {
        "colab": {
          "base_uri": "https://localhost:8080/"
        },
        "id": "axhHhbeTLmGJ",
        "outputId": "f5ea5da9-7c65-4a65-a26b-b0595d51a8fa"
      },
      "execution_count": null,
      "outputs": [
        {
          "output_type": "stream",
          "name": "stdout",
          "text": [
            "Eviter l’emballement. Le variant Omicron, dont la vitesse de propagation est « fulgurante autour de nous en Europe », « va se diffuser très rapidement au point de devenir dominant dès le début de l’année 2022 » en France, a averti Jean Castex. A l’issue d’un conseil de défense sanitaire, le Premier ministre a dévoilé une série de mesures, vendredi soir, annonçant notamment le souhait du gouvernement que le pass sanitaire devienne en janvier un « pass vaccinal ». Traduction : il ne pourra plus être activé avec un simple test négatif.\n",
            "\n",
            "Un projet de loi pour transformer le pass sanitaire en « pass vaccinal »\n",
            "\n",
            "Le pass sanitaire va devenir en début d’année un « pass vaccinal », qui ne pourra être activé qu’avec un schéma vaccinal complet et non plus un simple test négatif, a annoncé vendredi le Premier ministre Jean Castex. « Désormais seule la vaccination sera valable dans le pass », a insisté le chef du gouvernement à l’issue d’un conseil de défense sanitaire. « Un projet de loi sera soumis au Parlement début janvier notamment pour transformer le pass sanitaire en pass vaccinal, et durcir les conditions de contrôle et de sanctions contre les faux pass », a-t-il poursuivi.\n",
            "\n",
            "« Il n’est pas admissible que le refus de quelques millions de Français de se faire vacciner mette en risque la vie de tout un pays et entame le quotidien d’une immense majorité de Français qui a joué le jeu depuis le début de cette crise », a martelé le chef du gouvernement. « Je procéderai en début de semaine prochaine à la concertation préalable sur ce projet, ainsi que sur toute autre dispositions utiles pour étendre au maximum la vaccination. Nous assumons le faire peser la contrainte sur les non-vaccinés, car les services de soins critiques et de réanimation de nos hôpitaux sont remplis, pour l’essentiel, de personnes non vaccinées », a expliqué Jean Castex. Le député européen (RN) Gilbert Collard a dénoncé une « société de contrôle ».\n",
            "\n",
            "Le délai pour le rappel passe à 4 mois\n",
            "\n",
            "Le délai pour accéder au rappel vaccinal sera ramené à quatre mois au lieu de cinq « dès le 3 janvier », a annoncé le Premier ministre.\n",
            "\n",
            "Les « grands rassemblements » à éviter pendant les fêtes\n",
            "\n",
            "« Evitons les grandes fêtes, les grands rassemblements », conseille le chef du gouvernement. De nouvelles mesures vont être annoncées « pour limiter au maximum les risques de contamination à l’occasion des fêtes de fin d’année », poursuit Jean Castex. « Les préfets interdiront les rassemblements sauvages et la consommation d’alcool sur la voie publique » pour la soirée du 31 décembre.\n",
            "\n",
            "Déplacements de Macron au Mali et de Castex en Jordanie annulés\n",
            "\n",
            "Jean Castex a décidé d’annuler son déplacement prévu pour le Nouvel-An en Jordanie afin « d’éviter d’importer le variant Omicron à nos troupes qui sont en territoire exposé », a indiqué vendredi Matignon, alors qu’Emmanuel Macron a pour sa part renoncé à un déplacement au Mali pour célébrer Noël.\n"
          ]
        }
      ]
    },
    {
      "cell_type": "code",
      "source": [
        "# realiser un traitement de text\n",
        "article.nlp()"
      ],
      "metadata": {
        "id": "ASVQc7s1Lx6G"
      },
      "execution_count": null,
      "outputs": []
    },
    {
      "cell_type": "code",
      "source": [
        "# résumer l'article\n",
        "print(article.summary)"
      ],
      "metadata": {
        "colab": {
          "base_uri": "https://localhost:8080/"
        },
        "id": "qm3nC54GMDZA",
        "outputId": "d15dc601-783c-47e9-8cf6-5684f0f9df16"
      },
      "execution_count": null,
      "outputs": [
        {
          "output_type": "stream",
          "name": "stdout",
          "text": [
            "A l’issue d’un conseil de défense sanitaire, le Premier ministre a dévoilé une série de mesures, vendredi soir, annonçant notamment le souhait du gouvernement que le pass sanitaire devienne en janvier un « pass vaccinal ».\n",
            "Un projet de loi pour transformer le pass sanitaire en « pass vaccinal »Le pass sanitaire va devenir en début d’année un « pass vaccinal », qui ne pourra être activé qu’avec un schéma vaccinal complet et non plus un simple test négatif, a annoncé vendredi le Premier ministre Jean Castex.\n",
            "« Désormais seule la vaccination sera valable dans le pass », a insisté le chef du gouvernement à l’issue d’un conseil de défense sanitaire.\n",
            "Les « grands rassemblements » à éviter pendant les fêtes« Evitons les grandes fêtes, les grands rassemblements », conseille le chef du gouvernement.\n",
            "« Les préfets interdiront les rassemblements sauvages et la consommation d’alcool sur la voie publique » pour la soirée du 31 décembre.\n"
          ]
        }
      ]
    },
    {
      "cell_type": "code",
      "source": [
        "urls = [\"https://www.20minutes.fr/sante/3200619-20211217-coronavirus-pass-vaccinal-rappel-fetes-annonces-jean-castex-face-fulgurance-variant-omicron\",\n",
        "        \"https://www.20minutes.fr/faits_divers/3199659-20211216-ille-vilaine-grue-48-tonnes-disparait-nature?utm_source=outbrain&utm_medium=widget&utm_campaign=obclick&obref=obinsite\",\n",
        "        \"https://www.20minutes.fr/sante/3200019-20211217-coronavirus-marseille-patients-transferes-vers-hopitaux-ouest-france?utm_source=outbrain&utm_medium=widget&utm_campaign=obclick&obref=obinsource\",\n",
        "        \"https://www.20minutes.fr/faits_divers/3200327-20211217-nanterre-apres-l-agression-de-la-procession-catholique-les-communautes-religieuses-reagissent?utm_source=outbrain&utm_medium=widget&utm_campaign=obclick&obref=obinsite\",\n",
        "        \"https://www.20minutes.fr/societe/3200175-20211217-michel-neyret-ex-2-pj-lyon-tacle-condamnation-claude-gueant?utm_source=outbrain&utm_medium=widget&utm_campaign=obclick&obref=obinsite\"\n",
        "        ]\n",
        "\n",
        "def url_text(url):\n",
        "  l_article = Article(url)\n",
        "  l_article.download()\n",
        "  l_article.parse()\n",
        "  l_titre = l_article.title\n",
        "  l_text = l_article.text\n",
        "  l_auteur = l_article.authors\n",
        "  print(urls)\n",
        "  return l_titre,l_text,l_auteur\n",
        "\n",
        "\n",
        "texts = [url_text(url) for j in urls]"
      ],
      "metadata": {
        "colab": {
          "base_uri": "https://localhost:8080/"
        },
        "id": "7oOyJfQRMvYe",
        "outputId": "e4d0e3fb-964c-4634-b96d-33384c43d4b9"
      },
      "execution_count": null,
      "outputs": [
        {
          "output_type": "stream",
          "name": "stdout",
          "text": [
            "['https://www.20minutes.fr/sante/3200619-20211217-coronavirus-pass-vaccinal-rappel-fetes-annonces-jean-castex-face-fulgurance-variant-omicron', 'https://www.20minutes.fr/faits_divers/3199659-20211216-ille-vilaine-grue-48-tonnes-disparait-nature?utm_source=outbrain&utm_medium=widget&utm_campaign=obclick&obref=obinsite', 'https://www.20minutes.fr/sante/3200019-20211217-coronavirus-marseille-patients-transferes-vers-hopitaux-ouest-france?utm_source=outbrain&utm_medium=widget&utm_campaign=obclick&obref=obinsource', 'https://www.20minutes.fr/faits_divers/3200327-20211217-nanterre-apres-l-agression-de-la-procession-catholique-les-communautes-religieuses-reagissent?utm_source=outbrain&utm_medium=widget&utm_campaign=obclick&obref=obinsite', 'https://www.20minutes.fr/societe/3200175-20211217-michel-neyret-ex-2-pj-lyon-tacle-condamnation-claude-gueant?utm_source=outbrain&utm_medium=widget&utm_campaign=obclick&obref=obinsite']\n",
            "['https://www.20minutes.fr/sante/3200619-20211217-coronavirus-pass-vaccinal-rappel-fetes-annonces-jean-castex-face-fulgurance-variant-omicron', 'https://www.20minutes.fr/faits_divers/3199659-20211216-ille-vilaine-grue-48-tonnes-disparait-nature?utm_source=outbrain&utm_medium=widget&utm_campaign=obclick&obref=obinsite', 'https://www.20minutes.fr/sante/3200019-20211217-coronavirus-marseille-patients-transferes-vers-hopitaux-ouest-france?utm_source=outbrain&utm_medium=widget&utm_campaign=obclick&obref=obinsource', 'https://www.20minutes.fr/faits_divers/3200327-20211217-nanterre-apres-l-agression-de-la-procession-catholique-les-communautes-religieuses-reagissent?utm_source=outbrain&utm_medium=widget&utm_campaign=obclick&obref=obinsite', 'https://www.20minutes.fr/societe/3200175-20211217-michel-neyret-ex-2-pj-lyon-tacle-condamnation-claude-gueant?utm_source=outbrain&utm_medium=widget&utm_campaign=obclick&obref=obinsite']\n",
            "['https://www.20minutes.fr/sante/3200619-20211217-coronavirus-pass-vaccinal-rappel-fetes-annonces-jean-castex-face-fulgurance-variant-omicron', 'https://www.20minutes.fr/faits_divers/3199659-20211216-ille-vilaine-grue-48-tonnes-disparait-nature?utm_source=outbrain&utm_medium=widget&utm_campaign=obclick&obref=obinsite', 'https://www.20minutes.fr/sante/3200019-20211217-coronavirus-marseille-patients-transferes-vers-hopitaux-ouest-france?utm_source=outbrain&utm_medium=widget&utm_campaign=obclick&obref=obinsource', 'https://www.20minutes.fr/faits_divers/3200327-20211217-nanterre-apres-l-agression-de-la-procession-catholique-les-communautes-religieuses-reagissent?utm_source=outbrain&utm_medium=widget&utm_campaign=obclick&obref=obinsite', 'https://www.20minutes.fr/societe/3200175-20211217-michel-neyret-ex-2-pj-lyon-tacle-condamnation-claude-gueant?utm_source=outbrain&utm_medium=widget&utm_campaign=obclick&obref=obinsite']\n",
            "['https://www.20minutes.fr/sante/3200619-20211217-coronavirus-pass-vaccinal-rappel-fetes-annonces-jean-castex-face-fulgurance-variant-omicron', 'https://www.20minutes.fr/faits_divers/3199659-20211216-ille-vilaine-grue-48-tonnes-disparait-nature?utm_source=outbrain&utm_medium=widget&utm_campaign=obclick&obref=obinsite', 'https://www.20minutes.fr/sante/3200019-20211217-coronavirus-marseille-patients-transferes-vers-hopitaux-ouest-france?utm_source=outbrain&utm_medium=widget&utm_campaign=obclick&obref=obinsource', 'https://www.20minutes.fr/faits_divers/3200327-20211217-nanterre-apres-l-agression-de-la-procession-catholique-les-communautes-religieuses-reagissent?utm_source=outbrain&utm_medium=widget&utm_campaign=obclick&obref=obinsite', 'https://www.20minutes.fr/societe/3200175-20211217-michel-neyret-ex-2-pj-lyon-tacle-condamnation-claude-gueant?utm_source=outbrain&utm_medium=widget&utm_campaign=obclick&obref=obinsite']\n",
            "['https://www.20minutes.fr/sante/3200619-20211217-coronavirus-pass-vaccinal-rappel-fetes-annonces-jean-castex-face-fulgurance-variant-omicron', 'https://www.20minutes.fr/faits_divers/3199659-20211216-ille-vilaine-grue-48-tonnes-disparait-nature?utm_source=outbrain&utm_medium=widget&utm_campaign=obclick&obref=obinsite', 'https://www.20minutes.fr/sante/3200019-20211217-coronavirus-marseille-patients-transferes-vers-hopitaux-ouest-france?utm_source=outbrain&utm_medium=widget&utm_campaign=obclick&obref=obinsource', 'https://www.20minutes.fr/faits_divers/3200327-20211217-nanterre-apres-l-agression-de-la-procession-catholique-les-communautes-religieuses-reagissent?utm_source=outbrain&utm_medium=widget&utm_campaign=obclick&obref=obinsite', 'https://www.20minutes.fr/societe/3200175-20211217-michel-neyret-ex-2-pj-lyon-tacle-condamnation-claude-gueant?utm_source=outbrain&utm_medium=widget&utm_campaign=obclick&obref=obinsite']\n"
          ]
        }
      ]
    },
    {
      "cell_type": "code",
      "source": [
        "texts[0]"
      ],
      "metadata": {
        "colab": {
          "base_uri": "https://localhost:8080/"
        },
        "id": "GF2KX8cFOejD",
        "outputId": "c0ccd400-9c74-4be0-d80f-d6d399e1c4de"
      },
      "execution_count": null,
      "outputs": [
        {
          "output_type": "execute_result",
          "data": {
            "text/plain": [
              "('Coronavirus : Pass vaccinal, rappel, fêtes… Les annonces de Jean Castex face à la « fulgurance » du variant Omicron',\n",
              " 'Eviter l’emballement. Le variant Omicron, dont la vitesse de propagation est « fulgurante autour de nous en Europe », « va se diffuser très rapidement au point de devenir dominant dès le début de l’année 2022 » en France, a averti Jean Castex. A l’issue d’un conseil de défense sanitaire, le Premier ministre a dévoilé une série de mesures, vendredi soir, annonçant notamment le souhait du gouvernement que le pass sanitaire devienne en janvier un « pass vaccinal ». Traduction : il ne pourra plus être activé avec un simple test négatif.\\n\\nUn projet de loi pour transformer le pass sanitaire en « pass vaccinal »\\n\\nLe pass sanitaire va devenir en début d’année un « pass vaccinal », qui ne pourra être activé qu’avec un schéma vaccinal complet et non plus un simple test négatif, a annoncé vendredi le Premier ministre Jean Castex. « Désormais seule la vaccination sera valable dans le pass », a insisté le chef du gouvernement à l’issue d’un conseil de défense sanitaire. « Un projet de loi sera soumis au Parlement début janvier notamment pour transformer le pass sanitaire en pass vaccinal, et durcir les conditions de contrôle et de sanctions contre les faux pass », a-t-il poursuivi.\\n\\n« Il n’est pas admissible que le refus de quelques millions de Français de se faire vacciner mette en risque la vie de tout un pays et entame le quotidien d’une immense majorité de Français qui a joué le jeu depuis le début de cette crise », a martelé le chef du gouvernement. « Je procéderai en début de semaine prochaine à la concertation préalable sur ce projet, ainsi que sur toute autre dispositions utiles pour étendre au maximum la vaccination. Nous assumons le faire peser la contrainte sur les non-vaccinés, car les services de soins critiques et de réanimation de nos hôpitaux sont remplis, pour l’essentiel, de personnes non vaccinées », a expliqué Jean Castex. Le député européen (RN) Gilbert Collard a dénoncé une « société de contrôle ».\\n\\nLe délai pour le rappel passe à 4 mois\\n\\nLe délai pour accéder au rappel vaccinal sera ramené à quatre mois au lieu de cinq « dès le 3 janvier », a annoncé le Premier ministre.\\n\\nLes « grands rassemblements » à éviter pendant les fêtes\\n\\n« Evitons les grandes fêtes, les grands rassemblements », conseille le chef du gouvernement. De nouvelles mesures vont être annoncées « pour limiter au maximum les risques de contamination à l’occasion des fêtes de fin d’année », poursuit Jean Castex. « Les préfets interdiront les rassemblements sauvages et la consommation d’alcool sur la voie publique » pour la soirée du 31 décembre.\\n\\nDéplacements de Macron au Mali et de Castex en Jordanie annulés\\n\\nJean Castex a décidé d’annuler son déplacement prévu pour le Nouvel-An en Jordanie afin « d’éviter d’importer le variant Omicron à nos troupes qui sont en territoire exposé », a indiqué vendredi Matignon, alors qu’Emmanuel Macron a pour sa part renoncé à un déplacement au Mali pour célébrer Noël.',\n",
              " ['Minutes Avec Afp'])"
            ]
          },
          "metadata": {},
          "execution_count": 20
        }
      ]
    },
    {
      "cell_type": "code",
      "source": [
        "colonnes_nom=['titre','auteur','texte']\n",
        "df = pd.DataFrame(texts,columns=colonnes_nom)\n",
        "df"
      ],
      "metadata": {
        "colab": {
          "base_uri": "https://localhost:8080/",
          "height": 206
        },
        "id": "shzrinPCOoCN",
        "outputId": "8f793deb-0ab9-418b-94fb-71fe4d6dac01"
      },
      "execution_count": null,
      "outputs": [
        {
          "output_type": "execute_result",
          "data": {
            "text/html": [
              "\n",
              "  <div id=\"df-72c36731-e704-44eb-a13b-14f84daa1c60\">\n",
              "    <div class=\"colab-df-container\">\n",
              "      <div>\n",
              "<style scoped>\n",
              "    .dataframe tbody tr th:only-of-type {\n",
              "        vertical-align: middle;\n",
              "    }\n",
              "\n",
              "    .dataframe tbody tr th {\n",
              "        vertical-align: top;\n",
              "    }\n",
              "\n",
              "    .dataframe thead th {\n",
              "        text-align: right;\n",
              "    }\n",
              "</style>\n",
              "<table border=\"1\" class=\"dataframe\">\n",
              "  <thead>\n",
              "    <tr style=\"text-align: right;\">\n",
              "      <th></th>\n",
              "      <th>titre</th>\n",
              "      <th>auteur</th>\n",
              "      <th>texte</th>\n",
              "    </tr>\n",
              "  </thead>\n",
              "  <tbody>\n",
              "    <tr>\n",
              "      <th>0</th>\n",
              "      <td>Coronavirus : Pass vaccinal, rappel, fêtes… Le...</td>\n",
              "      <td>Eviter l’emballement. Le variant Omicron, dont...</td>\n",
              "      <td>[Minutes Avec Afp]</td>\n",
              "    </tr>\n",
              "    <tr>\n",
              "      <th>1</th>\n",
              "      <td>Coronavirus : Pass vaccinal, rappel, fêtes… Le...</td>\n",
              "      <td>Eviter l’emballement. Le variant Omicron, dont...</td>\n",
              "      <td>[Minutes Avec Afp]</td>\n",
              "    </tr>\n",
              "    <tr>\n",
              "      <th>2</th>\n",
              "      <td>Coronavirus : Pass vaccinal, rappel, fêtes… Le...</td>\n",
              "      <td>Eviter l’emballement. Le variant Omicron, dont...</td>\n",
              "      <td>[Minutes Avec Afp]</td>\n",
              "    </tr>\n",
              "    <tr>\n",
              "      <th>3</th>\n",
              "      <td>Coronavirus : Pass vaccinal, rappel, fêtes… Le...</td>\n",
              "      <td>Eviter l’emballement. Le variant Omicron, dont...</td>\n",
              "      <td>[Minutes Avec Afp]</td>\n",
              "    </tr>\n",
              "    <tr>\n",
              "      <th>4</th>\n",
              "      <td>Coronavirus : Pass vaccinal, rappel, fêtes… Le...</td>\n",
              "      <td>Eviter l’emballement. Le variant Omicron, dont...</td>\n",
              "      <td>[Minutes Avec Afp]</td>\n",
              "    </tr>\n",
              "  </tbody>\n",
              "</table>\n",
              "</div>\n",
              "      <button class=\"colab-df-convert\" onclick=\"convertToInteractive('df-72c36731-e704-44eb-a13b-14f84daa1c60')\"\n",
              "              title=\"Convert this dataframe to an interactive table.\"\n",
              "              style=\"display:none;\">\n",
              "        \n",
              "  <svg xmlns=\"http://www.w3.org/2000/svg\" height=\"24px\"viewBox=\"0 0 24 24\"\n",
              "       width=\"24px\">\n",
              "    <path d=\"M0 0h24v24H0V0z\" fill=\"none\"/>\n",
              "    <path d=\"M18.56 5.44l.94 2.06.94-2.06 2.06-.94-2.06-.94-.94-2.06-.94 2.06-2.06.94zm-11 1L8.5 8.5l.94-2.06 2.06-.94-2.06-.94L8.5 2.5l-.94 2.06-2.06.94zm10 10l.94 2.06.94-2.06 2.06-.94-2.06-.94-.94-2.06-.94 2.06-2.06.94z\"/><path d=\"M17.41 7.96l-1.37-1.37c-.4-.4-.92-.59-1.43-.59-.52 0-1.04.2-1.43.59L10.3 9.45l-7.72 7.72c-.78.78-.78 2.05 0 2.83L4 21.41c.39.39.9.59 1.41.59.51 0 1.02-.2 1.41-.59l7.78-7.78 2.81-2.81c.8-.78.8-2.07 0-2.86zM5.41 20L4 18.59l7.72-7.72 1.47 1.35L5.41 20z\"/>\n",
              "  </svg>\n",
              "      </button>\n",
              "      \n",
              "  <style>\n",
              "    .colab-df-container {\n",
              "      display:flex;\n",
              "      flex-wrap:wrap;\n",
              "      gap: 12px;\n",
              "    }\n",
              "\n",
              "    .colab-df-convert {\n",
              "      background-color: #E8F0FE;\n",
              "      border: none;\n",
              "      border-radius: 50%;\n",
              "      cursor: pointer;\n",
              "      display: none;\n",
              "      fill: #1967D2;\n",
              "      height: 32px;\n",
              "      padding: 0 0 0 0;\n",
              "      width: 32px;\n",
              "    }\n",
              "\n",
              "    .colab-df-convert:hover {\n",
              "      background-color: #E2EBFA;\n",
              "      box-shadow: 0px 1px 2px rgba(60, 64, 67, 0.3), 0px 1px 3px 1px rgba(60, 64, 67, 0.15);\n",
              "      fill: #174EA6;\n",
              "    }\n",
              "\n",
              "    [theme=dark] .colab-df-convert {\n",
              "      background-color: #3B4455;\n",
              "      fill: #D2E3FC;\n",
              "    }\n",
              "\n",
              "    [theme=dark] .colab-df-convert:hover {\n",
              "      background-color: #434B5C;\n",
              "      box-shadow: 0px 1px 3px 1px rgba(0, 0, 0, 0.15);\n",
              "      filter: drop-shadow(0px 1px 2px rgba(0, 0, 0, 0.3));\n",
              "      fill: #FFFFFF;\n",
              "    }\n",
              "  </style>\n",
              "\n",
              "      <script>\n",
              "        const buttonEl =\n",
              "          document.querySelector('#df-72c36731-e704-44eb-a13b-14f84daa1c60 button.colab-df-convert');\n",
              "        buttonEl.style.display =\n",
              "          google.colab.kernel.accessAllowed ? 'block' : 'none';\n",
              "\n",
              "        async function convertToInteractive(key) {\n",
              "          const element = document.querySelector('#df-72c36731-e704-44eb-a13b-14f84daa1c60');\n",
              "          const dataTable =\n",
              "            await google.colab.kernel.invokeFunction('convertToInteractive',\n",
              "                                                     [key], {});\n",
              "          if (!dataTable) return;\n",
              "\n",
              "          const docLinkHtml = 'Like what you see? Visit the ' +\n",
              "            '<a target=\"_blank\" href=https://colab.research.google.com/notebooks/data_table.ipynb>data table notebook</a>'\n",
              "            + ' to learn more about interactive tables.';\n",
              "          element.innerHTML = '';\n",
              "          dataTable['output_type'] = 'display_data';\n",
              "          await google.colab.output.renderOutput(dataTable, element);\n",
              "          const docLink = document.createElement('div');\n",
              "          docLink.innerHTML = docLinkHtml;\n",
              "          element.appendChild(docLink);\n",
              "        }\n",
              "      </script>\n",
              "    </div>\n",
              "  </div>\n",
              "  "
            ],
            "text/plain": [
              "                                               titre  ...               texte\n",
              "0  Coronavirus : Pass vaccinal, rappel, fêtes… Le...  ...  [Minutes Avec Afp]\n",
              "1  Coronavirus : Pass vaccinal, rappel, fêtes… Le...  ...  [Minutes Avec Afp]\n",
              "2  Coronavirus : Pass vaccinal, rappel, fêtes… Le...  ...  [Minutes Avec Afp]\n",
              "3  Coronavirus : Pass vaccinal, rappel, fêtes… Le...  ...  [Minutes Avec Afp]\n",
              "4  Coronavirus : Pass vaccinal, rappel, fêtes… Le...  ...  [Minutes Avec Afp]\n",
              "\n",
              "[5 rows x 3 columns]"
            ]
          },
          "metadata": {},
          "execution_count": 21
        }
      ]
    }
  ]
}