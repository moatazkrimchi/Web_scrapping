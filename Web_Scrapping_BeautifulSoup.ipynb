{
  "nbformat": 4,
  "nbformat_minor": 0,
  "metadata": {
    "colab": {
      "name": "Web Scrapping BeautifulSoup",
      "provenance": [],
      "collapsed_sections": [],
      "authorship_tag": "ABX9TyOioEsi+genteIWZ6Lmtwe4",
      "include_colab_link": true
    },
    "kernelspec": {
      "name": "python3",
      "display_name": "Python 3"
    },
    "language_info": {
      "name": "python"
    }
  },
  "cells": [
    {
      "cell_type": "markdown",
      "metadata": {
        "id": "view-in-github",
        "colab_type": "text"
      },
      "source": [
        "<a href=\"https://colab.research.google.com/github/moatazkrimchi/Web_scrapping/blob/main/Web_Scrapping_BeautifulSoup.ipynb\" target=\"_parent\"><img src=\"https://colab.research.google.com/assets/colab-badge.svg\" alt=\"Open In Colab\"/></a>"
      ]
    },
    {
      "cell_type": "code",
      "source": [
        "pip install beautifulsoup4"
      ],
      "metadata": {
        "colab": {
          "base_uri": "https://localhost:8080/"
        },
        "id": "ics91IaVAD-M",
        "outputId": "c6eeb8a4-922a-4655-aeda-dcd562308eb8"
      },
      "execution_count": null,
      "outputs": [
        {
          "output_type": "stream",
          "name": "stdout",
          "text": [
            "Requirement already satisfied: beautifulsoup4 in /usr/local/lib/python3.7/dist-packages (4.6.3)\n"
          ]
        }
      ]
    },
    {
      "cell_type": "code",
      "source": [
        "pip install requests"
      ],
      "metadata": {
        "colab": {
          "base_uri": "https://localhost:8080/"
        },
        "id": "THJAeoLj_4CU",
        "outputId": "cb1e151c-b234-4b2e-9b58-1f778ab73795"
      },
      "execution_count": null,
      "outputs": [
        {
          "output_type": "stream",
          "name": "stdout",
          "text": [
            "Requirement already satisfied: requests in /usr/local/lib/python3.7/dist-packages (2.23.0)\n",
            "Requirement already satisfied: idna<3,>=2.5 in /usr/local/lib/python3.7/dist-packages (from requests) (2.10)\n",
            "Requirement already satisfied: urllib3!=1.25.0,!=1.25.1,<1.26,>=1.21.1 in /usr/local/lib/python3.7/dist-packages (from requests) (1.24.3)\n",
            "Requirement already satisfied: chardet<4,>=3.0.2 in /usr/local/lib/python3.7/dist-packages (from requests) (3.0.4)\n",
            "Requirement already satisfied: certifi>=2017.4.17 in /usr/local/lib/python3.7/dist-packages (from requests) (2021.10.8)\n"
          ]
        }
      ]
    },
    {
      "cell_type": "code",
      "source": [
        "# importer les packages\n",
        "import requests\n",
        "from bs4 import BeautifulSoup\n",
        "import pandas as pd"
      ],
      "metadata": {
        "id": "LCx3C2njAIVQ"
      },
      "execution_count": null,
      "outputs": []
    },
    {
      "cell_type": "code",
      "source": [
        "# URL\n",
        "url = 'http://feeds.bbci.co.uk/news/rss.xml'"
      ],
      "metadata": {
        "id": "NMYurWAZAZie"
      },
      "execution_count": null,
      "outputs": []
    },
    {
      "cell_type": "code",
      "source": [
        "# import le code de la page\n",
        "reponse = requests.get(url)\n",
        "soup=BeautifulSoup(reponse.text,\"html.parser\")\n",
        "soup"
      ],
      "metadata": {
        "id": "5jCObemHA1SF"
      },
      "execution_count": null,
      "outputs": []
    },
    {
      "cell_type": "code",
      "source": [
        "items=soup.find_all('item')"
      ],
      "metadata": {
        "id": "0adJmsSQBtK1"
      },
      "execution_count": null,
      "outputs": []
    },
    {
      "cell_type": "code",
      "source": [
        "item = items[0]"
      ],
      "metadata": {
        "id": "OPUZb5XhB7nW"
      },
      "execution_count": null,
      "outputs": []
    },
    {
      "cell_type": "code",
      "source": [
        "item"
      ],
      "metadata": {
        "colab": {
          "base_uri": "https://localhost:8080/"
        },
        "id": "T46TuIeKC1Ru",
        "outputId": "daa3b6d3-271f-49dc-ff3d-10a4b69818ca"
      },
      "execution_count": null,
      "outputs": [
        {
          "output_type": "execute_result",
          "data": {
            "text/plain": [
              "<item>\n",
              "<title><![CDATA[Top civil servant Simon Case quits No 10 party probe amid rule breach claims]]></title>\n",
              "<description><![CDATA[Simon Case, who was leading the inquiry, stands aside after it emerged an event was held in his office.]]></description>\n",
              "<link/>https://www.bbc.co.uk/news/uk-politics-59701369?at_medium=RSS&amp;at_campaign=KARANGA\n",
              "            <guid ispermalink=\"false\">https://www.bbc.co.uk/news/uk-politics-59701369</guid>\n",
              "<pubdate>Fri, 17 Dec 2021 22:24:24 GMT</pubdate>\n",
              "</item>"
            ]
          },
          "metadata": {},
          "execution_count": 18
        }
      ]
    },
    {
      "cell_type": "code",
      "source": [
        "item.title.text"
      ],
      "metadata": {
        "colab": {
          "base_uri": "https://localhost:8080/",
          "height": 35
        },
        "id": "WGGzU9OfB-LV",
        "outputId": "a5fa1ee2-59d3-4fb7-e783-92662c174a72"
      },
      "execution_count": null,
      "outputs": [
        {
          "output_type": "execute_result",
          "data": {
            "application/vnd.google.colaboratory.intrinsic+json": {
              "type": "string"
            },
            "text/plain": [
              "'Top civil servant Simon Case quits No 10 party probe amid rule breach claims'"
            ]
          },
          "metadata": {},
          "execution_count": 14
        }
      ]
    },
    {
      "cell_type": "code",
      "source": [
        "item.description.text"
      ],
      "metadata": {
        "colab": {
          "base_uri": "https://localhost:8080/",
          "height": 35
        },
        "id": "UwueW4JDCQy1",
        "outputId": "68683d35-adb2-4727-aafa-338586ee22c9"
      },
      "execution_count": null,
      "outputs": [
        {
          "output_type": "execute_result",
          "data": {
            "application/vnd.google.colaboratory.intrinsic+json": {
              "type": "string"
            },
            "text/plain": [
              "'Simon Case, who was leading the inquiry, stands aside after it emerged an event was held in his office.'"
            ]
          },
          "metadata": {},
          "execution_count": 15
        }
      ]
    },
    {
      "cell_type": "code",
      "source": [
        "news_items = []"
      ],
      "metadata": {
        "id": "69GP2fLyCUKa"
      },
      "execution_count": null,
      "outputs": []
    },
    {
      "cell_type": "code",
      "source": [
        "for i in items:\n",
        "  news_i = {}\n",
        "  news_i['title'] = i.title.text\n",
        "  news_i['description'] = i.description.text\n",
        "  news_i['pubdate'] = i.pubdate.text\n",
        "  news_items.append(news_i)"
      ],
      "metadata": {
        "id": "ioTcNk4GCZcx"
      },
      "execution_count": null,
      "outputs": []
    },
    {
      "cell_type": "code",
      "source": [
        "news_items"
      ],
      "metadata": {
        "id": "MvcnrMSVDLCr"
      },
      "execution_count": null,
      "outputs": []
    },
    {
      "cell_type": "code",
      "source": [
        "# convertir liste en base de données\n",
        "df = pd.DataFrame(news_items,columns=['title','description','pubdate'])"
      ],
      "metadata": {
        "id": "DK7ovCP8DijC"
      },
      "execution_count": null,
      "outputs": []
    },
    {
      "cell_type": "code",
      "source": [
        "df.head(20)"
      ],
      "metadata": {
        "colab": {
          "base_uri": "https://localhost:8080/",
          "height": 1000
        },
        "id": "bxXT20nOD2bT",
        "outputId": "0f5d5a30-b6a4-4936-ecee-045a56c34e2d"
      },
      "execution_count": null,
      "outputs": [
        {
          "output_type": "execute_result",
          "data": {
            "text/html": [
              "\n",
              "  <div id=\"df-95bbf01b-f925-4ccf-9008-1e4073eebc60\">\n",
              "    <div class=\"colab-df-container\">\n",
              "      <div>\n",
              "<style scoped>\n",
              "    .dataframe tbody tr th:only-of-type {\n",
              "        vertical-align: middle;\n",
              "    }\n",
              "\n",
              "    .dataframe tbody tr th {\n",
              "        vertical-align: top;\n",
              "    }\n",
              "\n",
              "    .dataframe thead th {\n",
              "        text-align: right;\n",
              "    }\n",
              "</style>\n",
              "<table border=\"1\" class=\"dataframe\">\n",
              "  <thead>\n",
              "    <tr style=\"text-align: right;\">\n",
              "      <th></th>\n",
              "      <th>title</th>\n",
              "      <th>description</th>\n",
              "      <th>pubdate</th>\n",
              "    </tr>\n",
              "  </thead>\n",
              "  <tbody>\n",
              "    <tr>\n",
              "      <th>0</th>\n",
              "      <td>Top civil servant Simon Case quits No 10 party...</td>\n",
              "      <td>Simon Case, who was leading the inquiry, stand...</td>\n",
              "      <td>Fri, 17 Dec 2021 22:24:24 GMT</td>\n",
              "    </tr>\n",
              "    <tr>\n",
              "      <th>1</th>\n",
              "      <td>Covid: More measures needed to limit hospitali...</td>\n",
              "      <td>Scientists say admissions could reach 3,000 a ...</td>\n",
              "      <td>Fri, 17 Dec 2021 22:42:55 GMT</td>\n",
              "    </tr>\n",
              "    <tr>\n",
              "      <th>2</th>\n",
              "      <td>Met PC sacked for racial slur uncovered during...</td>\n",
              "      <td>The post was found during an investigation lin...</td>\n",
              "      <td>Fri, 17 Dec 2021 21:12:23 GMT</td>\n",
              "    </tr>\n",
              "    <tr>\n",
              "      <th>3</th>\n",
              "      <td>Premier League and government urge footballers...</td>\n",
              "      <td>The Premier League and UK government urge foot...</td>\n",
              "      <td>Fri, 17 Dec 2021 22:58:00 GMT</td>\n",
              "    </tr>\n",
              "    <tr>\n",
              "      <th>4</th>\n",
              "      <td>Strictly 2021: Six memorable moments ahead of ...</td>\n",
              "      <td>AJ Odudu, John Whaite and Rose Ayling-Ellis wi...</td>\n",
              "      <td>Sat, 18 Dec 2021 00:00:26 GMT</td>\n",
              "    </tr>\n",
              "    <tr>\n",
              "      <th>5</th>\n",
              "      <td>Sutton house fire: Woman arrested after four b...</td>\n",
              "      <td>The children - named locally as Kyson, Bryson,...</td>\n",
              "      <td>Fri, 17 Dec 2021 17:53:44 GMT</td>\n",
              "    </tr>\n",
              "    <tr>\n",
              "      <th>6</th>\n",
              "      <td>Booster at least 80% effective against severe ...</td>\n",
              "      <td>Preliminary estimates by researchers suggest t...</td>\n",
              "      <td>Fri, 17 Dec 2021 20:23:20 GMT</td>\n",
              "    </tr>\n",
              "    <tr>\n",
              "      <th>7</th>\n",
              "      <td>Ghislaine Maxwell defence rests as she calls c...</td>\n",
              "      <td>The defence struggled to produce witnesses on ...</td>\n",
              "      <td>Fri, 17 Dec 2021 23:12:31 GMT</td>\n",
              "    </tr>\n",
              "    <tr>\n",
              "      <th>8</th>\n",
              "      <td>Scottish Power probe into claims of 'aggressiv...</td>\n",
              "      <td>A call handler says he was told to threaten Sc...</td>\n",
              "      <td>Fri, 17 Dec 2021 23:05:29 GMT</td>\n",
              "    </tr>\n",
              "    <tr>\n",
              "      <th>9</th>\n",
              "      <td>Russia Ukraine: Moscow lists demands for defus...</td>\n",
              "      <td>Moscow says Nato should abandon hopes of Ukrai...</td>\n",
              "      <td>Fri, 17 Dec 2021 21:23:11 GMT</td>\n",
              "    </tr>\n",
              "    <tr>\n",
              "      <th>10</th>\n",
              "      <td>Sir Rod Stewart pleads guilty to battery over ...</td>\n",
              "      <td>The singer and his son clashed with a Florida ...</td>\n",
              "      <td>Sat, 18 Dec 2021 00:25:51 GMT</td>\n",
              "    </tr>\n",
              "    <tr>\n",
              "      <th>11</th>\n",
              "      <td>Anti-5G necklaces found to be dangerously radi...</td>\n",
              "      <td>Conspiracy theories about 5G have fuelled a ma...</td>\n",
              "      <td>Fri, 17 Dec 2021 17:38:01 GMT</td>\n",
              "    </tr>\n",
              "    <tr>\n",
              "      <th>12</th>\n",
              "      <td>The Papers: Fresh Omicron fears and No 10 inqu...</td>\n",
              "      <td>The focus of most front pages this morning is ...</td>\n",
              "      <td>Sat, 18 Dec 2021 00:38:37 GMT</td>\n",
              "    </tr>\n",
              "    <tr>\n",
              "      <th>13</th>\n",
              "      <td>'I've got Covid so am self-isolating alone at ...</td>\n",
              "      <td>Anyone testing positive now will be self-isola...</td>\n",
              "      <td>Fri, 17 Dec 2021 14:53:19 GMT</td>\n",
              "    </tr>\n",
              "    <tr>\n",
              "      <th>14</th>\n",
              "      <td>Ryan Reynolds: More playing as Wrexham on Foot...</td>\n",
              "      <td>The club's takeover by Ryan Reynolds and Rob M...</td>\n",
              "      <td>Fri, 17 Dec 2021 22:55:26 GMT</td>\n",
              "    </tr>\n",
              "    <tr>\n",
              "      <th>15</th>\n",
              "      <td>Quiz of the week: Vladimir Putin's 'moonlighti...</td>\n",
              "      <td>How closely have you been paying attention to ...</td>\n",
              "      <td>Thu, 16 Dec 2021 17:06:21 GMT</td>\n",
              "    </tr>\n",
              "    <tr>\n",
              "      <th>16</th>\n",
              "      <td>Covid: How has Omicron changed a Christmas nig...</td>\n",
              "      <td>With many people opting to stay at home, what ...</td>\n",
              "      <td>Fri, 17 Dec 2021 11:33:46 GMT</td>\n",
              "    </tr>\n",
              "    <tr>\n",
              "      <th>17</th>\n",
              "      <td>Two teens slide to safety from fourth floor Ne...</td>\n",
              "      <td>Watch this dramatic video of them escaping thr...</td>\n",
              "      <td>Fri, 17 Dec 2021 13:47:09 GMT</td>\n",
              "    </tr>\n",
              "    <tr>\n",
              "      <th>18</th>\n",
              "      <td>Sweden's Gavle Christmas goat torched... again</td>\n",
              "      <td>A giant straw goat that is an annual highlight...</td>\n",
              "      <td>Fri, 17 Dec 2021 10:28:49 GMT</td>\n",
              "    </tr>\n",
              "    <tr>\n",
              "      <th>19</th>\n",
              "      <td>Sex and the pandemic: How did young people cop...</td>\n",
              "      <td>Three young women discuss how lockdown affecte...</td>\n",
              "      <td>Fri, 17 Dec 2021 00:03:47 GMT</td>\n",
              "    </tr>\n",
              "  </tbody>\n",
              "</table>\n",
              "</div>\n",
              "      <button class=\"colab-df-convert\" onclick=\"convertToInteractive('df-95bbf01b-f925-4ccf-9008-1e4073eebc60')\"\n",
              "              title=\"Convert this dataframe to an interactive table.\"\n",
              "              style=\"display:none;\">\n",
              "        \n",
              "  <svg xmlns=\"http://www.w3.org/2000/svg\" height=\"24px\"viewBox=\"0 0 24 24\"\n",
              "       width=\"24px\">\n",
              "    <path d=\"M0 0h24v24H0V0z\" fill=\"none\"/>\n",
              "    <path d=\"M18.56 5.44l.94 2.06.94-2.06 2.06-.94-2.06-.94-.94-2.06-.94 2.06-2.06.94zm-11 1L8.5 8.5l.94-2.06 2.06-.94-2.06-.94L8.5 2.5l-.94 2.06-2.06.94zm10 10l.94 2.06.94-2.06 2.06-.94-2.06-.94-.94-2.06-.94 2.06-2.06.94z\"/><path d=\"M17.41 7.96l-1.37-1.37c-.4-.4-.92-.59-1.43-.59-.52 0-1.04.2-1.43.59L10.3 9.45l-7.72 7.72c-.78.78-.78 2.05 0 2.83L4 21.41c.39.39.9.59 1.41.59.51 0 1.02-.2 1.41-.59l7.78-7.78 2.81-2.81c.8-.78.8-2.07 0-2.86zM5.41 20L4 18.59l7.72-7.72 1.47 1.35L5.41 20z\"/>\n",
              "  </svg>\n",
              "      </button>\n",
              "      \n",
              "  <style>\n",
              "    .colab-df-container {\n",
              "      display:flex;\n",
              "      flex-wrap:wrap;\n",
              "      gap: 12px;\n",
              "    }\n",
              "\n",
              "    .colab-df-convert {\n",
              "      background-color: #E8F0FE;\n",
              "      border: none;\n",
              "      border-radius: 50%;\n",
              "      cursor: pointer;\n",
              "      display: none;\n",
              "      fill: #1967D2;\n",
              "      height: 32px;\n",
              "      padding: 0 0 0 0;\n",
              "      width: 32px;\n",
              "    }\n",
              "\n",
              "    .colab-df-convert:hover {\n",
              "      background-color: #E2EBFA;\n",
              "      box-shadow: 0px 1px 2px rgba(60, 64, 67, 0.3), 0px 1px 3px 1px rgba(60, 64, 67, 0.15);\n",
              "      fill: #174EA6;\n",
              "    }\n",
              "\n",
              "    [theme=dark] .colab-df-convert {\n",
              "      background-color: #3B4455;\n",
              "      fill: #D2E3FC;\n",
              "    }\n",
              "\n",
              "    [theme=dark] .colab-df-convert:hover {\n",
              "      background-color: #434B5C;\n",
              "      box-shadow: 0px 1px 3px 1px rgba(0, 0, 0, 0.15);\n",
              "      filter: drop-shadow(0px 1px 2px rgba(0, 0, 0, 0.3));\n",
              "      fill: #FFFFFF;\n",
              "    }\n",
              "  </style>\n",
              "\n",
              "      <script>\n",
              "        const buttonEl =\n",
              "          document.querySelector('#df-95bbf01b-f925-4ccf-9008-1e4073eebc60 button.colab-df-convert');\n",
              "        buttonEl.style.display =\n",
              "          google.colab.kernel.accessAllowed ? 'block' : 'none';\n",
              "\n",
              "        async function convertToInteractive(key) {\n",
              "          const element = document.querySelector('#df-95bbf01b-f925-4ccf-9008-1e4073eebc60');\n",
              "          const dataTable =\n",
              "            await google.colab.kernel.invokeFunction('convertToInteractive',\n",
              "                                                     [key], {});\n",
              "          if (!dataTable) return;\n",
              "\n",
              "          const docLinkHtml = 'Like what you see? Visit the ' +\n",
              "            '<a target=\"_blank\" href=https://colab.research.google.com/notebooks/data_table.ipynb>data table notebook</a>'\n",
              "            + ' to learn more about interactive tables.';\n",
              "          element.innerHTML = '';\n",
              "          dataTable['output_type'] = 'display_data';\n",
              "          await google.colab.output.renderOutput(dataTable, element);\n",
              "          const docLink = document.createElement('div');\n",
              "          docLink.innerHTML = docLinkHtml;\n",
              "          element.appendChild(docLink);\n",
              "        }\n",
              "      </script>\n",
              "    </div>\n",
              "  </div>\n",
              "  "
            ],
            "text/plain": [
              "                                                title  ...                        pubdate\n",
              "0   Top civil servant Simon Case quits No 10 party...  ...  Fri, 17 Dec 2021 22:24:24 GMT\n",
              "1   Covid: More measures needed to limit hospitali...  ...  Fri, 17 Dec 2021 22:42:55 GMT\n",
              "2   Met PC sacked for racial slur uncovered during...  ...  Fri, 17 Dec 2021 21:12:23 GMT\n",
              "3   Premier League and government urge footballers...  ...  Fri, 17 Dec 2021 22:58:00 GMT\n",
              "4   Strictly 2021: Six memorable moments ahead of ...  ...  Sat, 18 Dec 2021 00:00:26 GMT\n",
              "5   Sutton house fire: Woman arrested after four b...  ...  Fri, 17 Dec 2021 17:53:44 GMT\n",
              "6   Booster at least 80% effective against severe ...  ...  Fri, 17 Dec 2021 20:23:20 GMT\n",
              "7   Ghislaine Maxwell defence rests as she calls c...  ...  Fri, 17 Dec 2021 23:12:31 GMT\n",
              "8   Scottish Power probe into claims of 'aggressiv...  ...  Fri, 17 Dec 2021 23:05:29 GMT\n",
              "9   Russia Ukraine: Moscow lists demands for defus...  ...  Fri, 17 Dec 2021 21:23:11 GMT\n",
              "10  Sir Rod Stewart pleads guilty to battery over ...  ...  Sat, 18 Dec 2021 00:25:51 GMT\n",
              "11  Anti-5G necklaces found to be dangerously radi...  ...  Fri, 17 Dec 2021 17:38:01 GMT\n",
              "12  The Papers: Fresh Omicron fears and No 10 inqu...  ...  Sat, 18 Dec 2021 00:38:37 GMT\n",
              "13  'I've got Covid so am self-isolating alone at ...  ...  Fri, 17 Dec 2021 14:53:19 GMT\n",
              "14  Ryan Reynolds: More playing as Wrexham on Foot...  ...  Fri, 17 Dec 2021 22:55:26 GMT\n",
              "15  Quiz of the week: Vladimir Putin's 'moonlighti...  ...  Thu, 16 Dec 2021 17:06:21 GMT\n",
              "16  Covid: How has Omicron changed a Christmas nig...  ...  Fri, 17 Dec 2021 11:33:46 GMT\n",
              "17  Two teens slide to safety from fourth floor Ne...  ...  Fri, 17 Dec 2021 13:47:09 GMT\n",
              "18     Sweden's Gavle Christmas goat torched... again  ...  Fri, 17 Dec 2021 10:28:49 GMT\n",
              "19  Sex and the pandemic: How did young people cop...  ...  Fri, 17 Dec 2021 00:03:47 GMT\n",
              "\n",
              "[20 rows x 3 columns]"
            ]
          },
          "metadata": {},
          "execution_count": 27
        }
      ]
    },
    {
      "cell_type": "code",
      "source": [
        "# generée fichier csv\n",
        "df.to_csv('webbbc.csv',index=False,encoding='utf-8')"
      ],
      "metadata": {
        "id": "ZJqUCtjuD7w-"
      },
      "execution_count": null,
      "outputs": []
    }
  ]
}